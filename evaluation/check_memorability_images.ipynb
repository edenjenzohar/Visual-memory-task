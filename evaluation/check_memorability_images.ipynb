{
 "cells": [
  {
   "cell_type": "code",
   "execution_count": 19,
   "metadata": {},
   "outputs": [],
   "source": [
    "from resmem import ResMem, transformer\n",
    "from PIL import Image\n",
    "import matplotlib.pyplot as plt\n",
    "import matplotlib.image as mpimg\n",
    "import torch\n",
    "import pathlib as Path\n",
    "import numpy as np\n",
    "import seaborn as sns \n",
    "import pandas as pd\n",
    "from scipy import stats"
   ]
  },
  {
   "cell_type": "code",
   "execution_count": 2,
   "metadata": {},
   "outputs": [
    {
     "name": "stderr",
     "output_type": "stream",
     "text": [
      "C:\\Users\\User\\AppData\\Local\\Packages\\PythonSoftwareFoundation.Python.3.9_qbz5n2kfra8p0\\LocalCache\\local-packages\\Python39\\site-packages\\torchvision\\models\\_utils.py:208: UserWarning: The parameter 'pretrained' is deprecated since 0.13 and will be removed in 0.15, please use 'weights' instead.\n",
      "  warnings.warn(\n",
      "C:\\Users\\User\\AppData\\Local\\Packages\\PythonSoftwareFoundation.Python.3.9_qbz5n2kfra8p0\\LocalCache\\local-packages\\Python39\\site-packages\\torchvision\\models\\_utils.py:223: UserWarning: Arguments other than a weight enum or `None` for 'weights' are deprecated since 0.13 and will be removed in 0.15. The current behavior is equivalent to passing `weights=None`.\n",
      "  warnings.warn(msg)\n"
     ]
    }
   ],
   "source": [
    "model = ResMem(pretrained=True)"
   ]
  },
  {
   "cell_type": "code",
   "execution_count": 34,
   "metadata": {},
   "outputs": [],
   "source": [
    "df = pd.read_csv('target_and_distractor_images.csv')\n",
    "df.replace('.pkl','.jpg',regex=True,inplace=True)"
   ]
  },
  {
   "cell_type": "code",
   "execution_count": 39,
   "metadata": {},
   "outputs": [],
   "source": [
    "PATH_TO_ALL_IMAGES=Path.Path('../task/pilot_images/')\n",
    "\n",
    "\n",
    "images_list=[]\n",
    "layer_list=[]\n",
    "value_list=[]\n",
    "\n",
    "for col in df.columns:\n",
    "    cur_images=df[col].values\n",
    "    for curr_img in cur_images: \n",
    "        img = Image.open(PATH_TO_ALL_IMAGES /curr_img) \n",
    "        img.convert('RGB')\n",
    "        # This will convert your image into RGB, for instance if it's a PNG (RGBA) or if it's black and white.\n",
    "\n",
    "        model.eval()\n",
    "        # Set the model to inference mode.\n",
    "\n",
    "        image_x = transformer(img)\n",
    "        # Run the preprocessing function\n",
    "        \n",
    "        # For a single image, the image must be reshaped into a batch\n",
    "        # with size 1.\n",
    "        # Get your prediction!\n",
    "        prediction = model(image_x.view(-1, 3, 227, 227))\n",
    "        prediction = prediction.data[0][0]\n",
    "        \n",
    "        #predictions[name] = prediction.item()\n",
    "        value_list.append(prediction.item())\n",
    "        images_list.append(curr_img)\n",
    "        layer_list.append(col)"
   ]
  },
  {
   "cell_type": "code",
   "execution_count": 40,
   "metadata": {},
   "outputs": [],
   "source": [
    "images_memorability_df=pd.DataFrame({'img_name':images_list,'layer':layer_list,'mem_value':value_list})"
   ]
  },
  {
   "cell_type": "code",
   "execution_count": 42,
   "metadata": {},
   "outputs": [
    {
     "data": {
      "text/html": [
       "<div>\n",
       "<style scoped>\n",
       "    .dataframe tbody tr th:only-of-type {\n",
       "        vertical-align: middle;\n",
       "    }\n",
       "\n",
       "    .dataframe tbody tr th {\n",
       "        vertical-align: top;\n",
       "    }\n",
       "\n",
       "    .dataframe thead tr th {\n",
       "        text-align: left;\n",
       "    }\n",
       "\n",
       "    .dataframe thead tr:last-of-type th {\n",
       "        text-align: right;\n",
       "    }\n",
       "</style>\n",
       "<table border=\"1\" class=\"dataframe\">\n",
       "  <thead>\n",
       "    <tr>\n",
       "      <th></th>\n",
       "      <th colspan=\"2\" halign=\"left\">mem_value</th>\n",
       "    </tr>\n",
       "    <tr>\n",
       "      <th></th>\n",
       "      <th>mean</th>\n",
       "      <th>std</th>\n",
       "    </tr>\n",
       "    <tr>\n",
       "      <th>layer</th>\n",
       "      <th></th>\n",
       "      <th></th>\n",
       "    </tr>\n",
       "  </thead>\n",
       "  <tbody>\n",
       "    <tr>\n",
       "      <th>layer1</th>\n",
       "      <td>0.797212</td>\n",
       "      <td>0.061006</td>\n",
       "    </tr>\n",
       "    <tr>\n",
       "      <th>layer2</th>\n",
       "      <td>0.814454</td>\n",
       "      <td>0.074836</td>\n",
       "    </tr>\n",
       "    <tr>\n",
       "      <th>layer3</th>\n",
       "      <td>0.801848</td>\n",
       "      <td>0.068229</td>\n",
       "    </tr>\n",
       "    <tr>\n",
       "      <th>target_image</th>\n",
       "      <td>0.823045</td>\n",
       "      <td>0.064900</td>\n",
       "    </tr>\n",
       "  </tbody>\n",
       "</table>\n",
       "</div>"
      ],
      "text/plain": [
       "             mem_value          \n",
       "                  mean       std\n",
       "layer                           \n",
       "layer1        0.797212  0.061006\n",
       "layer2        0.814454  0.074836\n",
       "layer3        0.801848  0.068229\n",
       "target_image  0.823045  0.064900"
      ]
     },
     "execution_count": 42,
     "metadata": {},
     "output_type": "execute_result"
    }
   ],
   "source": [
    "images_memorability_df.groupby('layer').aggregate({'mem_value':['mean','std']})"
   ]
  }
 ],
 "metadata": {
  "kernelspec": {
   "display_name": "Python 3.9.13 64-bit (microsoft store)",
   "language": "python",
   "name": "python3"
  },
  "language_info": {
   "codemirror_mode": {
    "name": "ipython",
    "version": 3
   },
   "file_extension": ".py",
   "mimetype": "text/x-python",
   "name": "python",
   "nbconvert_exporter": "python",
   "pygments_lexer": "ipython3",
   "version": "3.9.13"
  },
  "orig_nbformat": 4,
  "vscode": {
   "interpreter": {
    "hash": "23b4a3e8622309bcc6db3d5cc6eb73d60ab98d9ec23bad6a26b709981ccb403a"
   }
  }
 },
 "nbformat": 4,
 "nbformat_minor": 2
}
