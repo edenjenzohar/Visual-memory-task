{
 "cells": [
  {
   "cell_type": "markdown",
   "metadata": {},
   "source": [
    "This code is for re-creating the selected subset of images after piloting and finding images that the mean accuracy rate is bellow 0.5 \n",
    "\n",
    "- find the selected images, layer and mapped number\n",
    "- delete the selected images from the contrast similarity df  \n",
    "- re-select the most similar images "
   ]
  },
  {
   "cell_type": "code",
   "execution_count": 24,
   "metadata": {},
   "outputs": [],
   "source": [
    "from copyreg import pickle\n",
    "import pandas as pd \n",
    "import numpy as np \n",
    "import pickle\n",
    "import pathlib as path\n",
    "import os "
   ]
  },
  {
   "cell_type": "code",
   "execution_count": 25,
   "metadata": {},
   "outputs": [],
   "source": [
    "bad_pictures = ['2874299429-139694.jpg','2883273443-68193.jpg','2986451363-73598.jpg','2964222378-71332.jpg']"
   ]
  },
  {
   "cell_type": "code",
   "execution_count": 26,
   "metadata": {},
   "outputs": [],
   "source": [
    "similarity_df=pd.read_csv('similarity_fungi_all.csv')\n",
    "similarity_df.drop(columns=['Unnamed: 0','model','category1','category2'],inplace=True)"
   ]
  },
  {
   "cell_type": "code",
   "execution_count": 45,
   "metadata": {},
   "outputs": [],
   "source": [
    "with open('contrast_similarity_df.pickle', 'rb') as handle:\n",
    "    return_dict = pickle.load(handle)\n",
    "\n",
    "contrast_similarity_per_layer=return_dict['contrast_similarity_per_layer']\n",
    "mapping_dict=return_dict['mapping_dict']\n",
    "# changing key names to end with .jpg and not .pkl\n",
    "ini_list = mapping_dict.keys()\n",
    "ini_list = [x.replace('.pkl','.jpg') for x in ini_list ]\n",
    "mapping_dict = dict(zip(ini_list, list(mapping_dict.values())))\n",
    "\n",
    "contrast_per_layer=return_dict['contrast_per_layer']\n",
    "all_layers_matrices=return_dict['all_layers_matrices']"
   ]
  },
  {
   "cell_type": "code",
   "execution_count": 46,
   "metadata": {},
   "outputs": [],
   "source": [
    "# creating a dictionary with the keys as the target images names and the values are the layer\n",
    "PATH_TARGET_IMAGES_FOLDER = path.Path(r'..\\evaluation\\selected')\n",
    "selected_images_paths = list(PATH_TARGET_IMAGES_FOLDER.glob(\"*/*.jpg\"))\n",
    "\n",
    "target_image_layer_dic = {}\n",
    "for x in selected_images_paths:\n",
    "    layer_number = x.parent.name.split(\"_\")[-1]\n",
    "    image_name = x.name\n",
    "    # \n",
    "    target_image_layer_dic[image_name] = layer_number\n"
   ]
  },
  {
   "cell_type": "code",
   "execution_count": 47,
   "metadata": {},
   "outputs": [],
   "source": [
    "# creating df with the layer and mapped value of each target image\n",
    "target_image_layer_df = pd.DataFrame.from_dict(target_image_layer_dic, orient='index',\n",
    "                       columns=['layer'])\n",
    "total = []\n",
    "for key in target_image_layer_dic.keys():\n",
    "    mapped_value = mapping_dict[key]\n",
    "    total.append(mapped_value)\n",
    "\n",
    "\n",
    "target_image_layer_df['mapped_value'] = total"
   ]
  },
  {
   "cell_type": "markdown",
   "metadata": {},
   "source": [
    "1) creating new target_image_layer_df without bad images , so we know what new images we need to find \n",
    "2) creating contrast_similarity_updated without used images so we cant choose them again "
   ]
  },
  {
   "cell_type": "code",
   "execution_count": 65,
   "metadata": {},
   "outputs": [
    {
     "data": {
      "text/plain": [
       "319"
      ]
     },
     "execution_count": 65,
     "metadata": {},
     "output_type": "execute_result"
    }
   ],
   "source": [
    "mapping_dict['2964224310-219528.jpg']"
   ]
  },
  {
   "cell_type": "code",
   "execution_count": 48,
   "metadata": {},
   "outputs": [],
   "source": [
    "# we need to make sure we dont choose distractors that have alraedy been chosen for target images and the target images themselves :\n",
    "contrast_similarity_updated = contrast_similarity_per_layer.copy()\n",
    "\n",
    "PATH_ALL_PILOT_IMAGES_FOLDER = path.Path(r'..\\task\\pilot_images')\n",
    "old_images = list(PATH_ALL_PILOT_IMAGES_FOLDER.glob(\"*.jpg\"))\n",
    "old_images = [x.name for x in old_images]\n",
    "\n",
    "total_taget_distarctors_mapped = []\n",
    "for x in old_images:\n",
    "   \n",
    "    total_taget_distarctors_mapped.append(mapping_dict[x])\n",
    "\n",
    "for image_val in total_taget_distarctors_mapped:\n",
    "    contrast_similarity_updated[image_val,:,:] = -9999"
   ]
  },
  {
   "cell_type": "code",
   "execution_count": 68,
   "metadata": {},
   "outputs": [
    {
     "data": {
      "text/plain": [
       "array([ 1.07178934e+00, -9.99900000e+03, -1.47774407e-01, ...,\n",
       "        8.23993638e-01,  1.06076563e+00, -1.08953010e-01])"
      ]
     },
     "execution_count": 68,
     "metadata": {},
     "output_type": "execute_result"
    }
   ],
   "source": [
    "contrast_similarity_updated[:,319,0]"
   ]
  },
  {
   "cell_type": "code",
   "execution_count": 50,
   "metadata": {},
   "outputs": [],
   "source": [
    "# updating new df without bad pictures \n",
    "# moving bad pictures to new folder \n",
    "target_image_layer_df_updated = target_image_layer_df.copy()\n",
    "for picture in bad_pictures:\n",
    "\n",
    "    id_bad = target_image_layer_df_updated[target_image_layer_df_updated.index == picture]\n",
    "    target_image_layer_df_updated = target_image_layer_df_updated.drop(index=id_bad.index)\n",
    "\n",
    "    # moving image to new folder - unselected \n",
    "    \n",
    "    old_path = PATH_TARGET_IMAGES_FOLDER / path.Path('layer_' + id_bad['layer'].values[0])/ path.Path(picture)\n",
    "\n",
    "    new_path = PATH_TARGET_IMAGES_FOLDER.parent / path.Path('unselected/'+'layer_' + id_bad['layer'].values[0])/ path.Path(picture)\n",
    "    os.rename(old_path, new_path)\n"
   ]
  },
  {
   "cell_type": "code",
   "execution_count": 51,
   "metadata": {},
   "outputs": [
    {
     "name": "stdout",
     "output_type": "stream",
     "text": [
      "no missing values for layer 0, skipping to next layer\n",
      "maximum value for layer 1 is 2.424939283771811\n",
      "the index of the picture is 408\n",
      "the name of the image is 2446759347-347016.jpg\n",
      "maximum value for layer 1 is 2.3344198338599083\n",
      "the index of the picture is 49\n",
      "the name of the image is 2449441881-272368.jpg\n",
      "maximum value for layer 2 is 3.377413640240492\n",
      "the index of the picture is 2270\n",
      "the name of the image is 2883254439-140941.jpg\n",
      "maximum value for layer 2 is 3.2792082526064186\n",
      "the index of the picture is 549\n",
      "the name of the image is 2901948350-218459.jpg\n"
     ]
    }
   ],
   "source": [
    "total_img_pool = contrast_similarity_updated[:,:,1].shape[0]\n",
    "for layer in ['0','1','2']:\n",
    "\n",
    "    current_target_img = target_image_layer_df_updated[target_image_layer_df_updated['layer'] == layer]\n",
    "    total_images = current_target_img.shape[0]\n",
    "\n",
    "    # if there are still 20 target images (no bad images from this layer), we continue to the next layer\n",
    "    if total_images == 20:\n",
    "        print(f'no missing values for layer {layer}, skipping to next layer')\n",
    "        continue\n",
    "    \n",
    "    # for the layers that have less than 20 target images, we loop until we have filled the gap :\n",
    "    while total_images < 20:\n",
    "        selected_target_imgs = current_target_img['mapped_value'].values\n",
    "        \n",
    "        # looping over each image - in rows - looking only at the previosly selected images columns \n",
    "        # appending the mean to the list \n",
    "        total_mean_similarity = []\n",
    "        for img in range(total_img_pool):\n",
    "            mean_similarity_contrast = contrast_similarity_updated[img,selected_target_imgs,int(layer)].mean() \n",
    "            total_mean_similarity.append(mean_similarity_contrast)\n",
    "        \n",
    "        # finding the max mean value and index \n",
    "        max_similarity_val = max(total_mean_similarity)\n",
    "        max_index = total_mean_similarity.index(max_similarity_val) \n",
    "        new_img_name = list(mapping_dict.keys())[list(mapping_dict.values()).index(max_index)]\n",
    "        print(f'maximum value for layer {layer} is {max_similarity_val}')\n",
    "        print(f'the index of the picture is {max_index}')\n",
    "        print(f'the name of the image is {new_img_name}')\n",
    "\n",
    "        # now that we have a new selected image , we put -9999 in that row so it isnt going to be selected again \n",
    "        contrast_similarity_updated[max_index,:,:] = -9999\n",
    "\n",
    "        # update the df : add the new row to the df \n",
    "        target_image_layer_df_updated.loc[new_img_name] = [layer,max_index]\n",
    "        current_target_img = target_image_layer_df_updated[target_image_layer_df_updated['layer'] == layer]\n",
    "        total_images = current_target_img.shape[0]\n",
    "\n",
    "# sorting values so layers will be together \n",
    "target_image_layer_df_updated = target_image_layer_df_updated.sort_values('layer')"
   ]
  },
  {
   "cell_type": "code",
   "execution_count": 62,
   "metadata": {},
   "outputs": [
    {
     "ename": "FileNotFoundError",
     "evalue": "[Errno 2] No such file or directory: '2446759347-347016.jpg'",
     "output_type": "error",
     "traceback": [
      "\u001b[1;31m---------------------------------------------------------------------------\u001b[0m",
      "\u001b[1;31mFileNotFoundError\u001b[0m                         Traceback (most recent call last)",
      "Cell \u001b[1;32mIn [62], line 14\u001b[0m\n\u001b[0;32m     11\u001b[0m os\u001b[39m.\u001b[39mmkdir(\u001b[39m'\u001b[39m\u001b[39mD:/my_new_folder\u001b[39m\u001b[39m'\u001b[39m)\n\u001b[0;32m     13\u001b[0m \u001b[39mfor\u001b[39;00m f \u001b[39min\u001b[39;00m pictures:\n\u001b[1;32m---> 14\u001b[0m     shutil\u001b[39m.\u001b[39;49mcopy(f, \u001b[39m'\u001b[39;49m\u001b[39mD:/my_new_folder\u001b[39;49m\u001b[39m'\u001b[39;49m)\n",
      "File \u001b[1;32mC:\\Program Files\\WindowsApps\\PythonSoftwareFoundation.Python.3.9_3.9.3568.0_x64__qbz5n2kfra8p0\\lib\\shutil.py:427\u001b[0m, in \u001b[0;36mcopy\u001b[1;34m(src, dst, follow_symlinks)\u001b[0m\n\u001b[0;32m    425\u001b[0m \u001b[39mif\u001b[39;00m os\u001b[39m.\u001b[39mpath\u001b[39m.\u001b[39misdir(dst):\n\u001b[0;32m    426\u001b[0m     dst \u001b[39m=\u001b[39m os\u001b[39m.\u001b[39mpath\u001b[39m.\u001b[39mjoin(dst, os\u001b[39m.\u001b[39mpath\u001b[39m.\u001b[39mbasename(src))\n\u001b[1;32m--> 427\u001b[0m copyfile(src, dst, follow_symlinks\u001b[39m=\u001b[39;49mfollow_symlinks)\n\u001b[0;32m    428\u001b[0m copymode(src, dst, follow_symlinks\u001b[39m=\u001b[39mfollow_symlinks)\n\u001b[0;32m    429\u001b[0m \u001b[39mreturn\u001b[39;00m dst\n",
      "File \u001b[1;32mC:\\Program Files\\WindowsApps\\PythonSoftwareFoundation.Python.3.9_3.9.3568.0_x64__qbz5n2kfra8p0\\lib\\shutil.py:264\u001b[0m, in \u001b[0;36mcopyfile\u001b[1;34m(src, dst, follow_symlinks)\u001b[0m\n\u001b[0;32m    262\u001b[0m     os\u001b[39m.\u001b[39msymlink(os\u001b[39m.\u001b[39mreadlink(src), dst)\n\u001b[0;32m    263\u001b[0m \u001b[39melse\u001b[39;00m:\n\u001b[1;32m--> 264\u001b[0m     \u001b[39mwith\u001b[39;00m \u001b[39mopen\u001b[39;49m(src, \u001b[39m'\u001b[39;49m\u001b[39mrb\u001b[39;49m\u001b[39m'\u001b[39;49m) \u001b[39mas\u001b[39;00m fsrc:\n\u001b[0;32m    265\u001b[0m         \u001b[39mtry\u001b[39;00m:\n\u001b[0;32m    266\u001b[0m             \u001b[39mwith\u001b[39;00m \u001b[39mopen\u001b[39m(dst, \u001b[39m'\u001b[39m\u001b[39mwb\u001b[39m\u001b[39m'\u001b[39m) \u001b[39mas\u001b[39;00m fdst:\n\u001b[0;32m    267\u001b[0m                 \u001b[39m# macOS\u001b[39;00m\n",
      "\u001b[1;31mFileNotFoundError\u001b[0m: [Errno 2] No such file or directory: '2446759347-347016.jpg'"
     ]
    }
   ],
   "source": [
    "# saving new target images to folders \n",
    "# this part is done manualy because we dont have the whole dataset on the computer. we look through it online and download only the \n",
    "# selected pictures \n",
    "\n",
    "## try this.. dosent work so well. best to chane by hand , just wait 10 min for the image folder to load \n",
    "# moving image to new folder - unselected \n",
    "pictures = ['2446759347-347016.jpg',' 2449441881-272368.jpg','2883254439-140941.jpg','2901948350-218459.jpg']\n",
    "layers = [1,1,2,2]\n",
    "\n",
    "import shutil, os\n",
    "os.mkdir('D:/my_new_folder')\n",
    "\n",
    "for f in pictures:\n",
    "    shutil.copy(f, 'D:/my_new_folder')\n"
   ]
  }
 ],
 "metadata": {
  "kernelspec": {
   "display_name": "Python 3.9.13 64-bit (microsoft store)",
   "language": "python",
   "name": "python3"
  },
  "language_info": {
   "codemirror_mode": {
    "name": "ipython",
    "version": 3
   },
   "file_extension": ".py",
   "mimetype": "text/x-python",
   "name": "python",
   "nbconvert_exporter": "python",
   "pygments_lexer": "ipython3",
   "version": "3.9.13"
  },
  "orig_nbformat": 4,
  "vscode": {
   "interpreter": {
    "hash": "23b4a3e8622309bcc6db3d5cc6eb73d60ab98d9ec23bad6a26b709981ccb403a"
   }
  }
 },
 "nbformat": 4,
 "nbformat_minor": 2
}
