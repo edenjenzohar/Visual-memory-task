{
 "cells": [
  {
   "cell_type": "markdown",
   "metadata": {},
   "source": [
    "This code is for re-creating the selected subset of images after piloting and finding images that the mean accuracy rate is bellow 0.5 \n",
    "\n",
    "- find the selected images, layer and mapped number\n",
    "- delete the selected images from the contrast similarity df  \n",
    "- re-select the most similar images "
   ]
  },
  {
   "cell_type": "code",
   "execution_count": 187,
   "metadata": {},
   "outputs": [],
   "source": [
    "from copyreg import pickle\n",
    "import pandas as pd \n",
    "import numpy as np \n",
    "import pickle\n",
    "import pathlib as path"
   ]
  },
  {
   "cell_type": "code",
   "execution_count": 4,
   "metadata": {},
   "outputs": [],
   "source": [
    "similarity_df=pd.read_csv('similarity_fungi_all.csv')\n",
    "similarity_df.drop(columns=['Unnamed: 0','model','category1','category2'],inplace=True)"
   ]
  },
  {
   "cell_type": "code",
   "execution_count": 188,
   "metadata": {},
   "outputs": [],
   "source": [
    "with open('contrast_similarity_df.pickle', 'rb') as handle:\n",
    "    return_dict = pickle.load(handle)\n",
    "\n",
    "contrast_similarity_per_layer=return_dict['contrast_similarity_per_layer']\n",
    "mapping_dict=return_dict['mapping_dict']\n",
    "# changing key names to end with .jpg and not .pkl\n",
    "ini_list = mapping_dict.keys()\n",
    "ini_list = [x.replace('.pkl','.jpg') for x in ini_list ]\n",
    "mapping_dict = dict(zip(ini_list, list(mapping_dict.values())))\n",
    "\n",
    "contrast_per_layer=return_dict['contrast_per_layer']\n",
    "all_layers_matrices=return_dict['all_layers_matrices']"
   ]
  },
  {
   "cell_type": "code",
   "execution_count": 193,
   "metadata": {},
   "outputs": [],
   "source": [
    "# creating a dictionary with the keys as the target images names and the values are the layer\n",
    "PATH_TARGET_IMAGES_FOLDER = path.Path(r'..\\evaluation\\selected')\n",
    "selected_images_paths = list(PATH_TARGET_IMAGES_FOLDER.glob(\"*/*.jpg\"))\n",
    "\n",
    "target_image_layer_dic = {}\n",
    "for x in selected_images_paths:\n",
    "    layer_number = x.parent.name.split(\"_\")[-1]\n",
    "    image_name = x.name\n",
    "    # \n",
    "    target_image_layer_dic[image_name] = layer_number\n"
   ]
  },
  {
   "cell_type": "code",
   "execution_count": 194,
   "metadata": {},
   "outputs": [],
   "source": [
    "# creating df with the layer and mapped value of each target image\n",
    "target_image_layer_df = pd.DataFrame.from_dict(target_image_layer_dic, orient='index',\n",
    "                       columns=['layer'])\n",
    "total = []\n",
    "for key in target_image_layer_dic.keys():\n",
    "    mapped_value = mapping_dict[key]\n",
    "    total.append(mapped_value)\n",
    "\n",
    "\n",
    "target_image_layer_df['mapped_value'] = total"
   ]
  },
  {
   "cell_type": "markdown",
   "metadata": {},
   "source": [
    "1) creating new target_image_layer_df without bad images , so we know what new images we need to find \n",
    "2) creating contrast_similarity_updated without used images so we cant choose them again "
   ]
  },
  {
   "cell_type": "code",
   "execution_count": 195,
   "metadata": {},
   "outputs": [],
   "source": [
    "contrast_similarity_updated = contrast_similarity_per_layer.copy()\n",
    "\n",
    "for image_val in target_image_layer_df['mapped_value'].values:\n",
    "    contrast_similarity_updated[image_val,:,:] = -9999\n",
    "    \n"
   ]
  },
  {
   "cell_type": "code",
   "execution_count": 196,
   "metadata": {},
   "outputs": [],
   "source": [
    "# updating new df without bad pictures \n",
    "bad_pictures = ['2874299429-139694.jpg','2883273443-68193.jpg','2986451363-73598.jpg','2964222378-71332.jpg']\n",
    "target_image_layer_df_updated = target_image_layer_df.copy()\n",
    "for picture in bad_pictures:\n",
    "\n",
    "    id_bad = target_image_layer_df_updated[target_image_layer_df_updated.index == picture]\n",
    "    target_image_layer_df_updated = target_image_layer_df_updated.drop(index=id_bad.index)\n"
   ]
  },
  {
   "cell_type": "code",
   "execution_count": 197,
   "metadata": {},
   "outputs": [
    {
     "name": "stdout",
     "output_type": "stream",
     "text": [
      "no missing values for layer 0, skipping to next layer\n",
      "maximum value for layer 1 is 2.4857333179465213\n",
      "the index of the picture is 1490\n",
      "the name of the image is 2864901420-212147.jpg\n",
      "maximum value for layer 1 is 2.434712472688511\n",
      "the index of the picture is 1856\n",
      "the name of the image is 2901939327-367670.jpg\n",
      "maximum value for layer 2 is 3.377413640240492\n",
      "the index of the picture is 2270\n",
      "the name of the image is 2883254439-140941.jpg\n",
      "maximum value for layer 2 is 3.3128860532287576\n",
      "the index of the picture is 981\n",
      "the name of the image is 2874314526-289684.jpg\n"
     ]
    }
   ],
   "source": [
    "total_img_pool = contrast_similarity_updated[:,:,1].shape[0]\n",
    "for layer in ['0','1','2']:\n",
    "\n",
    "    current_target_img = target_image_layer_df_updated[target_image_layer_df_updated['layer'] == layer]\n",
    "    total_images = current_target_img.shape[0]\n",
    "\n",
    "    # if there are still 20 target images (no bad images from this layer), we continue to the next layer\n",
    "    if total_images == 20:\n",
    "        print(f'no missing values for layer {layer}, skipping to next layer')\n",
    "        continue\n",
    "    \n",
    "    # for the layers that have less than 20 target images, we loop until we have filled the gap :\n",
    "    while total_images < 20:\n",
    "        selected_target_imgs = current_target_img['mapped_value'].values\n",
    "        \n",
    "        # looping over each image - in rows - looking only at the previosly selected images columns \n",
    "        # appending the mean to the list \n",
    "        total_mean_similarity = []\n",
    "        for img in range(total_img_pool):\n",
    "            mean_similarity_contrast = contrast_similarity_updated[img,selected_target_imgs,int(layer)].mean() \n",
    "            total_mean_similarity.append(mean_similarity_contrast)\n",
    "        \n",
    "        # finding the max mean value and index \n",
    "        max_similarity_val = max(total_mean_similarity)\n",
    "        max_index = total_mean_similarity.index(max_similarity_val) \n",
    "        new_img_name = list(mapping_dict.keys())[list(mapping_dict.values()).index(max_index)]\n",
    "        print(f'maximum value for layer {layer} is {max_similarity_val}')\n",
    "        print(f'the index of the picture is {max_index}')\n",
    "        print(f'the name of the image is {new_img_name}')\n",
    "\n",
    "        # now that we have a new selected image , we put -9999 in that row so it isnt going to be selected again \n",
    "        contrast_similarity_updated[max_index,:,:] = -9999\n",
    "\n",
    "        # update the df : add the new row to the df \n",
    "        target_image_layer_df_updated.loc[new_img_name] = [layer,max_index]\n",
    "        current_target_img = target_image_layer_df_updated[target_image_layer_df_updated['layer'] == layer]\n",
    "        total_images = current_target_img.shape[0]\n",
    "\n",
    "# sorting values so layers will be together \n",
    "target_image_layer_df_updated = target_image_layer_df_updated.sort_values('layer')"
   ]
  }
 ],
 "metadata": {
  "kernelspec": {
   "display_name": "Python 3.9.13 64-bit (microsoft store)",
   "language": "python",
   "name": "python3"
  },
  "language_info": {
   "codemirror_mode": {
    "name": "ipython",
    "version": 3
   },
   "file_extension": ".py",
   "mimetype": "text/x-python",
   "name": "python",
   "nbconvert_exporter": "python",
   "pygments_lexer": "ipython3",
   "version": "3.9.13"
  },
  "orig_nbformat": 4,
  "vscode": {
   "interpreter": {
    "hash": "23b4a3e8622309bcc6db3d5cc6eb73d60ab98d9ec23bad6a26b709981ccb403a"
   }
  }
 },
 "nbformat": 4,
 "nbformat_minor": 2
}
