{
 "cells": [
  {
   "cell_type": "code",
   "execution_count": 1,
   "id": "bda2d017",
   "metadata": {},
   "outputs": [],
   "source": [
    "import seaborn as sns\n",
    "import numpy as np \n",
    "import pandas as pd \n",
    "from statsmodels.stats.anova import AnovaRM\n",
    "import matplotlib.pyplot as plt\n",
    "import pathlib as path"
   ]
  },
  {
   "cell_type": "code",
   "execution_count": 11,
   "id": "d2dcb78a",
   "metadata": {},
   "outputs": [],
   "source": [
    "#this is where all downladed data exists (after extracting the zip file)\n",
    "\n",
    "#PATH_TO_DATA = path.Path(r'C:\\Users\\User\\Desktop\\visualpilot')\n",
    "PATH_TO_DATA = path.Path.cwd().parent / 'data' #this is relational, assuming that this file runs from the analysis folder. \n",
    "\n",
    "# total number of batches to enter into the anaylsis\n",
    "total_batches = [1,2,3]"
   ]
  },
  {
   "cell_type": "code",
   "execution_count": 12,
   "id": "d162002c",
   "metadata": {},
   "outputs": [],
   "source": [
    "\n",
    "filename = 'one_line_per_participant_all_info_valid_subjects_only.csv'\n",
    "all_valid_subjects = pd.DataFrame([])\n",
    "for batch in total_batches:\n",
    "    PATH_PROCESED = PATH_TO_DATA / f'processed data{batch}' / filename\n",
    "    file = pd.read_csv(PATH_PROCESED,index_col=0)\n",
    "    all_valid_subjects = pd.concat([all_valid_subjects,file])"
   ]
  },
  {
   "cell_type": "code",
   "execution_count": 13,
   "id": "03fc7d27",
   "metadata": {},
   "outputs": [
    {
     "data": {
      "text/plain": [
       "Text(0, 0.5, 'RT')"
      ]
     },
     "execution_count": 13,
     "metadata": {},
     "output_type": "execute_result"
    },
    {
     "data": {
      "image/png": "[encoded data removed]",
      "text/plain": [
       "<Figure size 720x360 with 2 Axes>"
      ]
     },
     "metadata": {
      "needs_background": "light"
     },
     "output_type": "display_data"
    }
   ],
   "source": [
    "fig,axes=plt.subplots(nrows=1,ncols=2,figsize=(10,5))\n",
    "sns.barplot(data=all_valid_subjects[['testing_layer_1_accuracy','testing_layer_2_accuracy','testing_layer_3_accuracy']],ax=axes[0])\n",
    "sns.swarmplot(data=all_valid_subjects[['testing_layer_1_accuracy','testing_layer_2_accuracy','testing_layer_3_accuracy']],ax=axes[0],color='k')\n",
    "\n",
    "axes[0].set_xticklabels(labels=['layer1','layer2','layer3'],rotation=30)\n",
    "axes[0].set_ylabel('Accuracy')\n",
    "\n",
    "sns.barplot(data=all_valid_subjects[['testing_layer_1_rt','testing_layer_2_rt','testing_layer_3_rt']],ax=axes[1])\n",
    "sns.swarmplot(data=all_valid_subjects[['testing_layer_1_rt','testing_layer_2_rt','testing_layer_3_rt']],ax=axes[1],color='k')\n",
    "\n",
    "axes[1].set_xticklabels(labels=['layer1','layer2','layer3'],rotation=30)\n",
    "axes[1].set_ylabel('RT')"
   ]
  },
  {
   "cell_type": "markdown",
   "id": "bbdba513",
   "metadata": {},
   "source": [
    "### ANOVA "
   ]
  },
  {
   "cell_type": "code",
   "execution_count": 14,
   "id": "ea74ae6a",
   "metadata": {},
   "outputs": [
    {
     "name": "stdout",
     "output_type": "stream",
     "text": [
      "               Anova\n",
      "===================================\n",
      "      F Value Num DF  Den DF Pr > F\n",
      "-----------------------------------\n",
      "layer  4.1448 2.0000 32.0000 0.0251\n",
      "===================================\n",
      "\n"
     ]
    }
   ],
   "source": [
    "temp = all_valid_subjects[['testing_layer_1_accuracy','testing_layer_2_accuracy','testing_layer_3_accuracy','testing_layer_1_rt','testing_layer_2_rt','testing_layer_3_rt']]\n",
    "\n",
    "df = pd.DataFrame({'patient': np.repeat(temp.index, 3),\n",
    "                   'layer': np.tile([1, 2,3], temp.shape[0]),\n",
    "                   'accuracy': temp[['testing_layer_1_accuracy','testing_layer_2_accuracy','testing_layer_3_accuracy']].to_numpy().ravel(),\n",
    "                    'rt': temp[['testing_layer_1_rt','testing_layer_2_rt','testing_layer_3_rt']].to_numpy().ravel() })\n",
    "\n",
    "# Conduct the repeated measures ANOVA\n",
    "print(AnovaRM(data=df, depvar='accuracy',\n",
    "              subject='patient', within=['layer']).fit())"
   ]
  },
  {
   "cell_type": "markdown",
   "id": "286e18f8",
   "metadata": {},
   "source": [
    "### CORRELATION "
   ]
  },
  {
   "cell_type": "code",
   "execution_count": 15,
   "id": "479d9985",
   "metadata": {},
   "outputs": [
    {
     "data": {
      "text/plain": [
       "0.31698539057348635"
      ]
     },
     "execution_count": 15,
     "metadata": {},
     "output_type": "execute_result"
    }
   ],
   "source": [
    "curr_layer = df[df['layer'] == 2\n",
    "               ]\n",
    "curr_layer['accuracy'].corr(curr_layer['rt'])"
   ]
  },
  {
   "cell_type": "markdown",
   "id": "bd2e28c8",
   "metadata": {},
   "source": [
    "### Testing the criterions"
   ]
  },
  {
   "cell_type": "code",
   "execution_count": null,
   "id": "948abda1",
   "metadata": {},
   "outputs": [],
   "source": []
  }
 ],
 "metadata": {
  "kernelspec": {
   "display_name": "Python 3.10.4 ('my_env_v3')",
   "language": "python",
   "name": "python3"
  },
  "language_info": {
   "codemirror_mode": {
    "name": "ipython",
    "version": 3
   },
   "file_extension": ".py",
   "mimetype": "text/x-python",
   "name": "python",
   "nbconvert_exporter": "python",
   "pygments_lexer": "ipython3",
   "version": "3.10.4"
  },
  "vscode": {
   "interpreter": {
    "hash": "682fd5356c59e6193a7b57b256db50cf61987195eaf98c0915436170dbde729d"
   }
  }
 },
 "nbformat": 4,
 "nbformat_minor": 5
}
