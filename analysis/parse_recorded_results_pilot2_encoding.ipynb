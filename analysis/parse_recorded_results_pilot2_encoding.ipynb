{
 "cells": [
  {
   "cell_type": "code",
   "execution_count": 60,
   "metadata": {},
   "outputs": [],
   "source": [
    "import pandas as pd \n",
    "import numpy as np \n",
    "import pathlib as path\n",
    "import matplotlib.pyplot as plt\n",
    "import random\n",
    "from PIL import Image\n",
    "from random import sample\n",
    "from cmath import nan"
   ]
  },
  {
   "cell_type": "code",
   "execution_count": 61,
   "metadata": {},
   "outputs": [],
   "source": [
    "\n",
    "PATH_TO_BATCH=path.Path(r'C:\\Users\\d_abe\\Desktop\\human similarity database\\edens github repo\\Visual-memory-task\\analysis')"
   ]
  },
  {
   "cell_type": "code",
   "execution_count": 62,
   "metadata": {},
   "outputs": [],
   "source": [
    "def find_largest_consequtive_repetition(responses_array):\n",
    "#add a stop value so the loop will use the logic also if the end of the responses is all repeating: \n",
    "    responses_array=np.append(responses_array,[99])\n",
    "    longest_rep_dict=dict()\n",
    "    last_input=responses_array[0]\n",
    "    consequtive_rep_counter=0\n",
    "    for response in responses_array[1:]: \n",
    "        if response==last_input: #if consequtive rep: \n",
    "            consequtive_rep_counter=consequtive_rep_counter+1 #add to counter\n",
    "        else: #once a new entry is in the vector - store the counter rep information \n",
    "            if last_input in longest_rep_dict.keys(): #if it was allready stored in our dictionary\n",
    "                if longest_rep_dict[last_input]<consequtive_rep_counter: #replace the counter only if it is higher than what stored in dict\n",
    "                    longest_rep_dict[last_input]=consequtive_rep_counter\n",
    "            else: #this entry is not yet in the dictionary: add it \n",
    "                longest_rep_dict[last_input]=consequtive_rep_counter\n",
    "            \n",
    "            consequtive_rep_counter=0\n",
    "            last_input=response\n",
    "    return max(longest_rep_dict.values())"
   ]
  },
  {
   "cell_type": "code",
   "execution_count": 63,
   "metadata": {},
   "outputs": [],
   "source": [
    "def process_worker_results(PATH_TO_BATCH,subject_name):\n",
    "    cur_sub=pd.read_csv(PATH_TO_BATCH / subject_name)\n",
    "    sub_demographics=cur_sub[['workID','Age','Gender']].iloc[0]\n",
    "\n",
    "    #extract demo related information: \n",
    "\n",
    "    #if participant did not click on the arrow during the demo a 'demo_encoding_response.rt' colmumn wont exists: \n",
    "    #thus we will create one and fill it with nans (so everything will be consistent with other participants)\n",
    "    if not('demo_encoding_response.rt' in cur_sub.columns):\n",
    "        cur_sub['demo_encoding_response.rt']=np.nan\n",
    "    demo_columns=['demo_encoding_loop.thisTrialN','DemoImage','DemoCorrect','demo_encoding_response.rt','demo_encoding_response.keys']\n",
    "\n",
    "    sub_demo_information=cur_sub[demo_columns]\n",
    "    empty_inds=sub_demo_information.loc[sub_demo_information.isnull().apply(lambda x: all(x), axis=1)].index\n",
    "    #drop irrelevant columns: \n",
    "    sub_demo_information=sub_demo_information.drop(index=empty_inds)\n",
    "\n",
    "\n",
    "    #extract the demo test columns: \n",
    "    demo_test_columns=['demo_test_response.keys','demo_test_response.corr','demo_test_response.rt','demo_test_loop.thisTrialN','DemoImage1','DemoImage2','DemoCorrectTest']\n",
    "    sub_demo_test_information=cur_sub[demo_test_columns]\n",
    "    empty_inds=sub_demo_test_information.loc[sub_demo_test_information.isnull().apply(lambda x: all(x), axis=1)].index\n",
    "    #drop irrelevant columns: \n",
    "    sub_demo_test_information=sub_demo_test_information.drop(index=empty_inds)\n",
    "\n",
    "    demo_df=pd.concat([sub_demo_information.reset_index(),sub_demo_test_information.reset_index()],axis=1)\n",
    "\n",
    "    #extract real experiment related information: \n",
    "\n",
    "    #if participant did not click on the arrow during the encoding a 'test_encoding_response.rt' column wont exists: \n",
    "    #thus we will create one and fill it with nans (so everything will be consistent with other participants)\n",
    "    if not('test_encoding_response.rt' in cur_sub.columns):\n",
    "        cur_sub['test_encoding_response.rt']=np.nan\n",
    "\n",
    "\n",
    "    encoding_related_columns=['test_encoding_response.keys','test_encoding_response.corr','trials.thisTrialN','target_image','pair','layer','correct','test_encoding_response.rt','key_resp_end.keys']\n",
    "    sub_encoding_information=cur_sub[encoding_related_columns]\n",
    "    #encoding section ends with a key press of the space key: so seperate this phase by finding this space key row\n",
    "    end_of_section_ind=np.where(sub_encoding_information['key_resp_end.keys']=='space')[0][0]\n",
    "    sub_encoding_information=sub_encoding_information.iloc[0:end_of_section_ind]\n",
    "    #remove all the rows that precede the real encoding phase: \n",
    "    empty_inds=sub_encoding_information.loc[sub_encoding_information.isnull().apply(lambda x: all(x), axis=1)].index\n",
    "    sub_encoding_information=sub_encoding_information.drop(index=empty_inds).reset_index()\n",
    "\n",
    "    #extract real experiment TEST related information: \n",
    "    #test_related_columns=['layer','correct','test_test_response.keys','test_test_response.corr','test_test_response.rt','trials_2.thisRepN','trials_2.thisTrialN','trials_2.thisN','trials_2.thisIndex','trials_2.ran','image1','image2']\n",
    "    #sub_test_information=cur_sub[test_related_columns].iloc[end_of_section_ind+2:-1]\n",
    "\n",
    "\n",
    "    subject_dictionary=dict()\n",
    "    subject_dictionary['demographics']=sub_demographics\n",
    "    subject_dictionary['demo_df']=demo_df\n",
    "    subject_dictionary['encoding_df']=sub_encoding_information\n",
    "    #subject_dictionary['test_df']=sub_test_information\n",
    "\n",
    "    return subject_dictionary\n",
    "\n"
   ]
  },
  {
   "cell_type": "code",
   "execution_count": 64,
   "metadata": {},
   "outputs": [
    {
     "name": "stdout",
     "output_type": "stream",
     "text": [
      "current csv files: [WindowsPath('C:/Users/d_abe/Desktop/human similarity database/edens github repo/Visual-memory-task/analysis/ENCODING_BADGIRL_2022-10-26_17h32.08.942.csv'), WindowsPath('C:/Users/d_abe/Desktop/human similarity database/edens github repo/Visual-memory-task/analysis/ENCODING_BADGUY_2022-10-26_17h23.51.549.csv'), WindowsPath('C:/Users/d_abe/Desktop/human similarity database/edens github repo/Visual-memory-task/analysis/ENCODING_hello_2022-10-26_15h50.31.716.csv')]\n"
     ]
    }
   ],
   "source": [
    "all_filenames=[file for file in PATH_TO_BATCH.iterdir() if 'csv' in file.name]\n",
    "print('current csv files:',all_filenames)\n",
    "\n",
    "qualified_for_test_df=pd.DataFrame(columns=['workerID','arrow_acc','mean_arrow_RT'])\n",
    "for subject_csv in all_filenames:\n",
    "    subject_dict=process_worker_results(PATH_TO_BATCH,path.Path(subject_csv))\n",
    "    cur_sub_encoding=subject_dict['encoding_df']\n",
    "\n",
    "    sname=subject_csv.name.split('_')[1] #change according to actuall format. \n",
    "\n",
    "    #get only attention check related info: \n",
    "    cur_sub_encoding=cur_sub_encoding[['test_encoding_response.keys','correct','test_encoding_response.rt']].copy().dropna(how = 'all')\n",
    "    if len(cur_sub_encoding)==0: #empty - the participant didnt respond on the arrow at all\n",
    "        arrow_acc=0\n",
    "        RT=nan\n",
    "    else: \n",
    "        RT=cur_sub_encoding['test_encoding_response.rt'].mean()\n",
    "        arrow_acc=(cur_sub_encoding['correct']==cur_sub_encoding['test_encoding_response.keys']).mean()\n",
    "    sub_df=pd.DataFrame({'workerID':sname,'arrow_acc':arrow_acc,'mean_arrow_RT':RT},index=[sname])\n",
    "    qualified_for_test_df=pd.concat([qualified_for_test_df,sub_df],axis=0)\n"
   ]
  },
  {
   "cell_type": "code",
   "execution_count": 65,
   "metadata": {},
   "outputs": [
    {
     "data": {
      "text/html": [
       "<div>\n",
       "<style scoped>\n",
       "    .dataframe tbody tr th:only-of-type {\n",
       "        vertical-align: middle;\n",
       "    }\n",
       "\n",
       "    .dataframe tbody tr th {\n",
       "        vertical-align: top;\n",
       "    }\n",
       "\n",
       "    .dataframe thead th {\n",
       "        text-align: right;\n",
       "    }\n",
       "</style>\n",
       "<table border=\"1\" class=\"dataframe\">\n",
       "  <thead>\n",
       "    <tr style=\"text-align: right;\">\n",
       "      <th></th>\n",
       "      <th>workerID</th>\n",
       "      <th>arrow_acc</th>\n",
       "      <th>mean_arrow_RT</th>\n",
       "    </tr>\n",
       "  </thead>\n",
       "  <tbody>\n",
       "    <tr>\n",
       "      <th>BADGIRL</th>\n",
       "      <td>BADGIRL</td>\n",
       "      <td>0.2</td>\n",
       "      <td>1.2974</td>\n",
       "    </tr>\n",
       "    <tr>\n",
       "      <th>BADGUY</th>\n",
       "      <td>BADGUY</td>\n",
       "      <td>0.6</td>\n",
       "      <td>1.448125</td>\n",
       "    </tr>\n",
       "    <tr>\n",
       "      <th>hello</th>\n",
       "      <td>hello</td>\n",
       "      <td>0.4</td>\n",
       "      <td>1.21345</td>\n",
       "    </tr>\n",
       "  </tbody>\n",
       "</table>\n",
       "</div>"
      ],
      "text/plain": [
       "        workerID arrow_acc mean_arrow_RT\n",
       "BADGIRL  BADGIRL       0.2        1.2974\n",
       "BADGUY    BADGUY       0.6      1.448125\n",
       "hello      hello       0.4       1.21345"
      ]
     },
     "execution_count": 65,
     "metadata": {},
     "output_type": "execute_result"
    }
   ],
   "source": [
    "qualified_for_test_df"
   ]
  }
 ],
 "metadata": {
  "kernelspec": {
   "display_name": "Python 3.10.4 ('my_env_v3')",
   "language": "python",
   "name": "python3"
  },
  "language_info": {
   "codemirror_mode": {
    "name": "ipython",
    "version": 3
   },
   "file_extension": ".py",
   "mimetype": "text/x-python",
   "name": "python",
   "nbconvert_exporter": "python",
   "pygments_lexer": "ipython3",
   "version": "3.10.4"
  },
  "orig_nbformat": 4,
  "vscode": {
   "interpreter": {
    "hash": "682fd5356c59e6193a7b57b256db50cf61987195eaf98c0915436170dbde729d"
   }
  }
 },
 "nbformat": 4,
 "nbformat_minor": 2
}
