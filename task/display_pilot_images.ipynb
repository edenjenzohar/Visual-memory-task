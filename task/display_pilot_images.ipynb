{
 "cells": [
  {
   "cell_type": "markdown",
   "metadata": {},
   "source": [
    "This code will show the pilot selected images setup in figures - from the final pilot images folder \n"
   ]
  },
  {
   "cell_type": "code",
   "execution_count": 1,
   "metadata": {},
   "outputs": [],
   "source": [
    "import pandas as pd \n",
    "import numpy as np \n",
    "import pathlib as path\n",
    "import matplotlib.pyplot as plt\n",
    "import random\n",
    "from PIL import Image"
   ]
  },
  {
   "cell_type": "code",
   "execution_count": 43,
   "metadata": {},
   "outputs": [],
   "source": [
    "IMAGES_FOLDER = path.Path('.\\pilot_images')\n",
    "CSV_FOLDER = path.Path('.\\csv_files')"
   ]
  },
  {
   "cell_type": "code",
   "execution_count": 44,
   "metadata": {},
   "outputs": [
    {
     "data": {
      "text/html": [
       "<div>\n",
       "<style scoped>\n",
       "    .dataframe tbody tr th:only-of-type {\n",
       "        vertical-align: middle;\n",
       "    }\n",
       "\n",
       "    .dataframe tbody tr th {\n",
       "        vertical-align: top;\n",
       "    }\n",
       "\n",
       "    .dataframe thead th {\n",
       "        text-align: right;\n",
       "    }\n",
       "</style>\n",
       "<table border=\"1\" class=\"dataframe\">\n",
       "  <thead>\n",
       "    <tr style=\"text-align: right;\">\n",
       "      <th></th>\n",
       "      <th>target_image</th>\n",
       "      <th>pair</th>\n",
       "      <th>layer</th>\n",
       "      <th>correct</th>\n",
       "    </tr>\n",
       "  </thead>\n",
       "  <tbody>\n",
       "    <tr>\n",
       "      <th>0</th>\n",
       "      <td>2898635427-367120.jpg</td>\n",
       "      <td>2898621427-366486.jpg</td>\n",
       "      <td>3.0</td>\n",
       "      <td>NaN</td>\n",
       "    </tr>\n",
       "    <tr>\n",
       "      <th>1</th>\n",
       "      <td>2874299429-139695.jpg</td>\n",
       "      <td>2446760917-347439.jpg</td>\n",
       "      <td>3.0</td>\n",
       "      <td>NaN</td>\n",
       "    </tr>\n",
       "    <tr>\n",
       "      <th>2</th>\n",
       "      <td>2238572663-35822.jpg</td>\n",
       "      <td>2864903351-286874.jpg</td>\n",
       "      <td>3.0</td>\n",
       "      <td>NaN</td>\n",
       "    </tr>\n",
       "    <tr>\n",
       "      <th>3</th>\n",
       "      <td>2986451363-73599.jpg</td>\n",
       "      <td>2860302315-210704.jpg</td>\n",
       "      <td>2.0</td>\n",
       "      <td>NaN</td>\n",
       "    </tr>\n",
       "    <tr>\n",
       "      <th>4</th>\n",
       "      <td>2446759803-49249.jpg</td>\n",
       "      <td>2901951392-368654.jpg</td>\n",
       "      <td>3.0</td>\n",
       "      <td>NaN</td>\n",
       "    </tr>\n",
       "    <tr>\n",
       "      <th>...</th>\n",
       "      <td>...</td>\n",
       "      <td>...</td>\n",
       "      <td>...</td>\n",
       "      <td>...</td>\n",
       "    </tr>\n",
       "    <tr>\n",
       "      <th>60</th>\n",
       "      <td>2592380177-354626.jpg</td>\n",
       "      <td>2238576792-334659.jpg</td>\n",
       "      <td>1.0</td>\n",
       "      <td>NaN</td>\n",
       "    </tr>\n",
       "    <tr>\n",
       "      <th>61</th>\n",
       "      <td>2238580740-186218.jpg</td>\n",
       "      <td>2238521193-26285.jpg</td>\n",
       "      <td>2.0</td>\n",
       "      <td>NaN</td>\n",
       "    </tr>\n",
       "    <tr>\n",
       "      <th>62</th>\n",
       "      <td>2898635428-69104.jpg</td>\n",
       "      <td>2446759803-49250.jpg</td>\n",
       "      <td>1.0</td>\n",
       "      <td>NaN</td>\n",
       "    </tr>\n",
       "    <tr>\n",
       "      <th>63</th>\n",
       "      <td>2449442529-124445.jpg</td>\n",
       "      <td>2898632385-217137.jpg</td>\n",
       "      <td>3.0</td>\n",
       "      <td>NaN</td>\n",
       "    </tr>\n",
       "    <tr>\n",
       "      <th>64</th>\n",
       "      <td>2981241414-145842.jpg</td>\n",
       "      <td>2874301404-139813.jpg</td>\n",
       "      <td>2.0</td>\n",
       "      <td>NaN</td>\n",
       "    </tr>\n",
       "  </tbody>\n",
       "</table>\n",
       "<p>65 rows × 4 columns</p>\n",
       "</div>"
      ],
      "text/plain": [
       "             target_image                   pair  layer correct\n",
       "0   2898635427-367120.jpg  2898621427-366486.jpg    3.0     NaN\n",
       "1   2874299429-139695.jpg  2446760917-347439.jpg    3.0     NaN\n",
       "2    2238572663-35822.jpg  2864903351-286874.jpg    3.0     NaN\n",
       "3    2986451363-73599.jpg  2860302315-210704.jpg    2.0     NaN\n",
       "4    2446759803-49249.jpg  2901951392-368654.jpg    3.0     NaN\n",
       "..                    ...                    ...    ...     ...\n",
       "60  2592380177-354626.jpg  2238576792-334659.jpg    1.0     NaN\n",
       "61  2238580740-186218.jpg   2238521193-26285.jpg    2.0     NaN\n",
       "62   2898635428-69104.jpg   2446759803-49250.jpg    1.0     NaN\n",
       "63  2449442529-124445.jpg  2898632385-217137.jpg    3.0     NaN\n",
       "64  2981241414-145842.jpg  2874301404-139813.jpg    2.0     NaN\n",
       "\n",
       "[65 rows x 4 columns]"
      ]
     },
     "execution_count": 44,
     "metadata": {},
     "output_type": "execute_result"
    }
   ],
   "source": [
    "\n",
    "subject = pd.read_csv(CSV_FOLDER/path.Path('sub_encoding0.csv'))\n",
    "old_target = subject['target_image']\n",
    "subject\n"
   ]
  },
  {
   "cell_type": "code",
   "execution_count": 45,
   "metadata": {},
   "outputs": [],
   "source": [
    "PATH_TARGET_IMAGES_FOLDER = path.Path(r'..\\evaluation\\selected')\n",
    "selected_images_paths = list(PATH_TARGET_IMAGES_FOLDER.glob(\"*/*.jpg\"))\n",
    "\n",
    "\n",
    "new_target = [x.name for x in selected_images_paths]"
   ]
  },
  {
   "cell_type": "code",
   "execution_count": 46,
   "metadata": {},
   "outputs": [
    {
     "name": "stdout",
     "output_type": "stream",
     "text": [
      "right.jpg\n",
      "2986451363-73598.jpg\n",
      "left.jpg\n",
      "right.jpg\n",
      "2964222378-71332.jpg\n",
      "2874299429-139694.jpg\n",
      "right.jpg\n",
      "right.jpg\n",
      "2883273443-68193.jpg\n"
     ]
    }
   ],
   "source": [
    "# checking if targets changes \n",
    "for x in old_target:\n",
    "    if x in new_target:\n",
    "        continue\n",
    "    else:\n",
    "        print(x)\n"
   ]
  },
  {
   "cell_type": "code",
   "execution_count": 49,
   "metadata": {},
   "outputs": [],
   "source": [
    "new_all_images = pd.read_csv('../evaluation/target_and_distractor_images.csv')\n",
    "new_all_images = new_all_images.values.flatten()\n",
    "new_all_images = [x.replace('.pkl','.jpg') for x in new_all_images ]\n",
    "\n",
    "PATH_TARGET_IMAGES_FOLDER = path.Path(r'.\\pilot_images')\n",
    "old_images = list(PATH_TARGET_IMAGES_FOLDER.glob(\"*.jpg\"))\n",
    "old_images = [x.name for x in old_images]"
   ]
  },
  {
   "cell_type": "code",
   "execution_count": 50,
   "metadata": {},
   "outputs": [
    {
     "name": "stdout",
     "output_type": "stream",
     "text": [
      "2575121987-353817.jpg\n",
      "2446759347-347016.jpg\n",
      "2901951350-218702.jpg\n",
      "2238569117-333045.jpg\n",
      "2449441881-272368.jpg\n",
      "2449441881-272367.jpg\n",
      "2901933328-69189.jpg\n",
      "2901933328-69192.jpg\n",
      "2238567168-34916.jpg\n",
      "2460547291-274110.jpg\n",
      "2883254439-140941.jpg\n",
      "2446760844-124088.jpg\n",
      "2898632385-217136.jpg\n",
      "2981231446-294730.jpg\n",
      "2901938432-367629.jpg\n",
      "2901948350-218459.jpg\n",
      "2804906319-133082.jpg\n",
      "2417208001-267065.jpg\n",
      "2981246360-220352.jpg\n"
     ]
    }
   ],
   "source": [
    "for x in new_all_images:\n",
    "    if x not in old_images:\n",
    "        print(x)"
   ]
  }
 ],
 "metadata": {
  "kernelspec": {
   "display_name": "Python 3.9.13 64-bit (microsoft store)",
   "language": "python",
   "name": "python3"
  },
  "language_info": {
   "codemirror_mode": {
    "name": "ipython",
    "version": 3
   },
   "file_extension": ".py",
   "mimetype": "text/x-python",
   "name": "python",
   "nbconvert_exporter": "python",
   "pygments_lexer": "ipython3",
   "version": "3.9.13"
  },
  "orig_nbformat": 4,
  "vscode": {
   "interpreter": {
    "hash": "23b4a3e8622309bcc6db3d5cc6eb73d60ab98d9ec23bad6a26b709981ccb403a"
   }
  }
 },
 "nbformat": 4,
 "nbformat_minor": 2
}
